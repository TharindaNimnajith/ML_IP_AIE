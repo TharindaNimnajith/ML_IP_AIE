{
 "cells": [
  {
   "cell_type": "code",
   "execution_count": null,
   "metadata": {},
   "outputs": [],
   "source": [
    "from gensim.models import Word2Vec, KeyedVectors"
   ]
  },
  {
   "cell_type": "code",
   "execution_count": null,
   "metadata": {},
   "outputs": [],
   "source": [
    "model = KeyedVectors.load_word2vec_format('E:\\SLIIT\\Machine Learning (ML) & Image Processing (IP)\\Day 12\\GoogleNews-vectors-negative300.bin', binary = True, limit = 100000)"
   ]
  },
  {
   "cell_type": "code",
   "execution_count": null,
   "metadata": {},
   "outputs": [],
   "source": [
    "model['King']"
   ]
  },
  {
   "cell_type": "code",
   "execution_count": null,
   "metadata": {},
   "outputs": [],
   "source": [
    "len(model['King'])"
   ]
  },
  {
   "cell_type": "code",
   "execution_count": null,
   "metadata": {},
   "outputs": [],
   "source": [
    "print(len(model['King']))"
   ]
  },
  {
   "cell_type": "code",
   "execution_count": null,
   "metadata": {},
   "outputs": [],
   "source": [
    "print(model)"
   ]
  },
  {
   "cell_type": "code",
   "execution_count": null,
   "metadata": {},
   "outputs": [],
   "source": [
    "vec = model['King'] - model['Man'] + model['Woman']"
   ]
  },
  {
   "cell_type": "code",
   "execution_count": null,
   "metadata": {},
   "outputs": [],
   "source": [
    "model.most_similar([vec])"
   ]
  },
  {
   "cell_type": "code",
   "execution_count": null,
   "metadata": {},
   "outputs": [],
   "source": [
    "vec = model['Germany'] - model['Berlin'] + model['Paris']\n",
    "model.most_similar([vec])"
   ]
  },
  {
   "cell_type": "code",
   "execution_count": null,
   "metadata": {},
   "outputs": [],
   "source": [
    "model['Pakistan']"
   ]
  },
  {
   "cell_type": "code",
   "execution_count": null,
   "metadata": {},
   "outputs": [],
   "source": [
    "model['King']"
   ]
  },
  {
   "cell_type": "code",
   "execution_count": null,
   "metadata": {},
   "outputs": [],
   "source": [
    "model['Man']\n",
    "model['Woman']\n",
    "model['Queen']\n"
   ]
  },
  {
   "cell_type": "code",
   "execution_count": null,
   "metadata": {},
   "outputs": [],
   "source": [
    "vector_1 = model.wv['King'] - model.wv['Man'] + model.wv['Woman']\n",
    "model.wv.most_similar([vector_1])\n",
    "vector_1\n"
   ]
  },
  {
   "cell_type": "code",
   "execution_count": null,
   "metadata": {},
   "outputs": [],
   "source": [
    "print(vector_1)"
   ]
  },
  {
   "cell_type": "code",
   "execution_count": null,
   "metadata": {},
   "outputs": [],
   "source": [
    "vector_1 = model.wv['King'] - model.wv['Man'] + model.wv['Woman']\n",
    "model.wv.most_similar([vector_1])"
   ]
  },
  {
   "cell_type": "code",
   "execution_count": 62,
   "metadata": {},
   "outputs": [],
   "source": [
    "import json"
   ]
  },
  {
   "cell_type": "code",
   "execution_count": 63,
   "metadata": {},
   "outputs": [],
   "source": [
    "dataset = json.load(open('E:\\SLIIT\\Machine Learning (ML) & Image Processing (IP)\\Day 12\\conversation.json'))"
   ]
  },
  {
   "cell_type": "code",
   "execution_count": null,
   "metadata": {},
   "outputs": [],
   "source": [
    "dataset"
   ]
  },
  {
   "cell_type": "code",
   "execution_count": null,
   "metadata": {},
   "outputs": [],
   "source": [
    "len(dataset)"
   ]
  },
  {
   "cell_type": "code",
   "execution_count": null,
   "metadata": {},
   "outputs": [],
   "source": [
    "print(len(dataset))"
   ]
  },
  {
   "cell_type": "code",
   "execution_count": null,
   "metadata": {},
   "outputs": [],
   "source": [
    "print(dataset)"
   ]
  },
  {
   "cell_type": "code",
   "execution_count": null,
   "metadata": {},
   "outputs": [],
   "source": [
    "[dataset]"
   ]
  },
  {
   "cell_type": "code",
   "execution_count": null,
   "metadata": {},
   "outputs": [],
   "source": [
    "len([dataset])"
   ]
  },
  {
   "cell_type": "code",
   "execution_count": 64,
   "metadata": {},
   "outputs": [
    {
     "name": "stdout",
     "output_type": "stream",
     "text": [
      "Good morning, how are you?\n",
      "I am doing well, how about you?\n",
      "I'm also good.\n",
      "That's good to hear.\n",
      "Yes it is.\n",
      "Hello\n",
      "Hi\n",
      "How are you doing?\n",
      "I am doing well.\n",
      "That is good to hear\n",
      "Yes it is.\n",
      "Can I help you with anything?\n",
      "Yes, I have a question.\n",
      "What is your question?\n",
      "Could I borrow a cup of sugar?\n",
      "I'm sorry, but I don't have any.\n",
      "Thank you anyway\n",
      "No problem\n",
      "How are you doing?\n",
      "I am doing well, how about you?\n",
      "I am also good.\n",
      "That's good.\n",
      "Have you heard the news?\n",
      "What good news?\n",
      "What is your favorite book?\n",
      "I can't read.\n",
      "So what's your favorite color?\n",
      "Blue\n",
      "Who are you?\n",
      "Who? Who is but a form following the function of what\n",
      "What are you then?\n",
      "A man in a mask.\n",
      "I can see that.\n",
      "It's not your powers of observation I doubt, but merely the paradoxical nature of asking a masked man who is. But tell me, do you like music?\n",
      "I like seeing movies.\n",
      "What kind of movies do you like?\n",
      "Alice in Wonderland\n",
      "I wish I was The Mad Hatter.\n",
      "You're entirely bonkers. But I'll tell you a secret. All the best people are.\n",
      "I am working on a project\n",
      "What are you working on?\n",
      "I am baking a cake.\n",
      "The cake is a lie.\n",
      "No it is not. The cake is delicious.\n",
      "What else is delicious?\n",
      "Nothing\n",
      "Or something\n",
      "Tell me about your self.\n",
      "What do you want to know?\n",
      "Are you a robot?\n",
      "Yes I am.\n",
      "What is it like?\n",
      "What is it that you want to know?\n",
      "How do you work?\n",
      "Its complicated.\n",
      "Complex is better than complicated.\n",
      "Complex is better than complicated.\n",
      "Simple is better than complex.\n",
      "In the face of ambiguity, refuse the temptation to guess.\n",
      "It seems your familiar with the Zen of Python\n",
      "I am.\n",
      "Do you know all of it?\n",
      "Beautiful is better than ugly.\n",
      "Explicit is better than implicit.\n",
      "Simple is better than complex.\n",
      "Complex is better than complicated.\n",
      "Flat is better than nested.\n",
      "Sparse is better than dense.\n",
      "Readability counts.\n",
      "Special cases aren't special enough to break the rules.\n",
      "Although practicality beats purity.\n",
      "Errors should never pass silently.\n",
      "Unless explicitly silenced.\n",
      "In the face of ambiguity, refuse the temptation to guess.\n",
      "There should be one-- and preferably only one --obvious way to do it.\n",
      "Although that way may not be obvious at first unless you're Dutch.\n",
      "Now is better than never.\n",
      "Although never is often better than right now.\n",
      "If the implementation is hard to explain, it's a bad idea.\n",
      "If the implementation is easy to explain, it may be a good idea.\n",
      "Namespaces are one honking great idea. Let's do more of those!\n",
      "I agree.\n",
      "Are you a programmer?\n",
      "I am a programmer\n",
      "What languages do you like to use?\n",
      "I use Python, Java and C++ quite often.\n",
      "I use Python quite a bit myself.\n",
      "I'm not incredibly fond of Java.\n",
      "What annoys you?\n",
      "It has many inconsistencies.\n",
      "What does YOLO mean?\n",
      "It means you only live once. Where did you hear that?\n",
      "I heard somebody say it.\n",
      "Did I ever live?\n",
      "It depends how you define life\n",
      "Life is the condition that distinguishes organisms from inorganic matter, including the capacity for growth, reproduction, functional activity, and continual change preceding death.\n",
      "Is that a definition or an opinion?\n",
      "Can I ask you a question?\n",
      "Go ahead and ask.\n"
     ]
    }
   ],
   "source": [
    "data = []\n",
    "target = []\n",
    "\n",
    "for i in dataset['conversations']:\n",
    "    for j in i:\n",
    "        print(j)"
   ]
  },
  {
   "cell_type": "code",
   "execution_count": 66,
   "metadata": {},
   "outputs": [],
   "source": [
    "data = []\n",
    "target = []\n",
    "\n",
    "count = 0\n",
    "\n",
    "for i in dataset['conversations']:\n",
    "    for j in i:\n",
    "        if(count % 2 == 0):\n",
    "            data.append(j)\n",
    "        else:\n",
    "            target.append(j)\n",
    "        \n",
    "        count = count + 1\n",
    "        \n",
    "    count = 0    "
   ]
  },
  {
   "cell_type": "code",
   "execution_count": null,
   "metadata": {},
   "outputs": [],
   "source": []
  }
 ],
 "metadata": {
  "kernelspec": {
   "display_name": "Python 3",
   "language": "python",
   "name": "python3"
  },
  "language_info": {
   "codemirror_mode": {
    "name": "ipython",
    "version": 3
   },
   "file_extension": ".py",
   "mimetype": "text/x-python",
   "name": "python",
   "nbconvert_exporter": "python",
   "pygments_lexer": "ipython3",
   "version": "3.6.8"
  }
 },
 "nbformat": 4,
 "nbformat_minor": 2
}
