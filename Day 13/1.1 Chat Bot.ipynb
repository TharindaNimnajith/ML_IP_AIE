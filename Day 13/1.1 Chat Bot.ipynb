{
 "cells": [
  {
   "cell_type": "code",
   "execution_count": 1,
   "metadata": {},
   "outputs": [
    {
     "name": "stderr",
     "output_type": "stream",
     "text": [
      "Using TensorFlow backend.\n",
      "J:\\Anaconda3\\lib\\site-packages\\ipykernel_launcher.py:6: UserWarning: Update your `LSTM` call to the Keras 2 API: `LSTM(input_shape=(15, 300), return_sequences=True, activation=\"sigmoid\", units=300, kernel_initializer=\"glorot_normal\", recurrent_initializer=\"glorot_normal\")`\n",
      "  \n",
      "J:\\Anaconda3\\lib\\site-packages\\ipykernel_launcher.py:7: UserWarning: Update your `LSTM` call to the Keras 2 API: `LSTM(input_shape=(15, 300), return_sequences=True, activation=\"sigmoid\", units=300, kernel_initializer=\"glorot_normal\", recurrent_initializer=\"glorot_normal\")`\n",
      "  import sys\n",
      "J:\\Anaconda3\\lib\\site-packages\\ipykernel_launcher.py:8: UserWarning: Update your `LSTM` call to the Keras 2 API: `LSTM(input_shape=(15, 300), return_sequences=True, activation=\"sigmoid\", units=300, kernel_initializer=\"glorot_normal\", recurrent_initializer=\"glorot_normal\")`\n",
      "  \n",
      "J:\\Anaconda3\\lib\\site-packages\\ipykernel_launcher.py:9: UserWarning: Update your `LSTM` call to the Keras 2 API: `LSTM(input_shape=(15, 300), return_sequences=True, activation=\"sigmoid\", units=300, kernel_initializer=\"glorot_normal\", recurrent_initializer=\"glorot_normal\")`\n",
      "  if __name__ == '__main__':\n"
     ]
    }
   ],
   "source": [
    "from keras.models import Sequential\n",
    "from keras.layers.recurrent import LSTM,SimpleRNN\n",
    "\n",
    "model=Sequential()\n",
    "\n",
    "model.add(LSTM(output_dim=300,input_shape=(15,300),return_sequences=True,init='glorot_normal',inner_init='glorot_normal',activation='sigmoid'))\n",
    "model.add(LSTM(output_dim=300,input_shape=(15,300),return_sequences=True,init='glorot_normal',inner_init='glorot_normal',activation='sigmoid'))\n",
    "model.add(LSTM(output_dim=300,input_shape=(15,300),return_sequences=True,init='glorot_normal',inner_init='glorot_normal',activation='sigmoid'))\n",
    "model.add(LSTM(output_dim=300,input_shape=(15,300),return_sequences=True,init='glorot_normal',inner_init='glorot_normal',activation='sigmoid'))\n",
    "\n",
    "model.compile(loss='cosine_proximity',optimizer='adam',metrics=['accuracy'])\n",
    "\n",
    "model.load_weights('LSTM5000.h5')"
   ]
  },
  {
   "cell_type": "code",
   "execution_count": null,
   "metadata": {},
   "outputs": [],
   "source": [
    "from gensim import models\n",
    "\n",
    "model_w2v=models.KeyedVectors.load_word2vec_format('H:/word2vec.bin',binary=True,limit=100000)"
   ]
  },
  {
   "cell_type": "code",
   "execution_count": null,
   "metadata": {},
   "outputs": [
    {
     "name": "stdout",
     "output_type": "stream",
     "text": [
      "Enter the msg:Good morning how are you\n",
      "scams linemates geophysics classmate boarder linemates electrolyte Meantime Cindy_Crawford Cindy_Crawford Cindy_Crawford Cindy_Crawford Cindy_Crawford Cindy_Crawford Cindy_Crawford\n",
      "Enter the msg:Hello there\n",
      "geophysics linemates escapades whirlpool chum linemates linemates linemates Which_brings Cindy_Crawford Cindy_Crawford Cindy_Crawford Cindy_Crawford Cindy_Crawford Cindy_Crawford\n"
     ]
    }
   ],
   "source": [
    "import nltk\n",
    "import numpy as np\n",
    "\n",
    "sentence_end=np.ones((300),dtype=np.float32)\n",
    "\n",
    "while(True):\n",
    "    \n",
    "    msg=input('Enter the msg:')\n",
    "    sentence_tok=nltk.word_tokenize(msg.lower()) #lower for all simple letters\n",
    "    sentence_vec=[model_w2v[word] for word in sentence_tok if word in model_w2v.vocab]\n",
    "    \n",
    "    sentence_vec[14:]=[]\n",
    "    sentence_vec.append(sentence_end)\n",
    "    \n",
    "    if len(sentence_vec)<15:\n",
    "        for i in range(15-len(sentence_vec)):\n",
    "            sentence_vec.append(sentence_end)\n",
    "    \n",
    "    sentence_vec=np.array([sentence_vec])\n",
    "    \n",
    "    result=model.predict(sentence_vec)\n",
    "    out_msg=[model_w2v.most_similar([result[0][i]])[0][0] for i in range(15)]\n",
    "    out_msg=' '.join(out_msg)\n",
    "    print(out_msg,'\\n')"
   ]
  },
  {
   "cell_type": "code",
   "execution_count": null,
   "metadata": {},
   "outputs": [],
   "source": []
  },
  {
   "cell_type": "code",
   "execution_count": null,
   "metadata": {},
   "outputs": [],
   "source": []
  }
 ],
 "metadata": {
  "kernelspec": {
   "display_name": "Python 3",
   "language": "python",
   "name": "python3"
  },
  "language_info": {
   "codemirror_mode": {
    "name": "ipython",
    "version": 3
   },
   "file_extension": ".py",
   "mimetype": "text/x-python",
   "name": "python",
   "nbconvert_exporter": "python",
   "pygments_lexer": "ipython3",
   "version": "3.6.8"
  }
 },
 "nbformat": 4,
 "nbformat_minor": 2
}
