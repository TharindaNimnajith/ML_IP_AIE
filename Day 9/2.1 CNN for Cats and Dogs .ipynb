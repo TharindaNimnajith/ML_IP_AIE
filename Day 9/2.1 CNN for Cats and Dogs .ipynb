{
 "cells": [
  {
   "cell_type": "code",
   "execution_count": 12,
   "metadata": {},
   "outputs": [
    {
     "name": "stdout",
     "output_type": "stream",
     "text": [
      "(24780, 50, 50, 1)\n",
      "(24780, 2)\n"
     ]
    }
   ],
   "source": [
    "import pickle\n",
    "\n",
    "train_data_file = open('train_data.pickle', 'rb')\n",
    "train_target_file = open('train_target.pickle', 'rb')\n",
    "\n",
    "train_data = pickle.load(train_data_file)\n",
    "train_target = pickle.load(train_target_file)\n",
    "\n",
    "#train_data=pickle.load(open('train_data.pickle','rb'))\n",
    "#train_target=pickle.load(open('train_target.pickle','rb'))\n",
    "\n",
    "print(train_data.shape)\n",
    "print(train_target.shape)\n",
    "\n",
    "import tensorflow as tf\n",
    "from tensorflow.keras.models import Sequential\n",
    "from tensorflow.keras.layers import Dense,Dropout,Activation,Flatten\n",
    "from tensorflow.keras.layers import Conv2D,MaxPooling2D"
   ]
  },
  {
   "cell_type": "code",
   "execution_count": 15,
   "metadata": {},
   "outputs": [],
   "source": [
    "train_data = train_data / 255.0\n",
    "#scale down 0-255 to 0-1\n",
    "\n",
    "model = Sequential()\n",
    "\n",
    "model.add(Conv2D(256, (3,3), input_shape = train_data.shape[1:]))\n",
    "model.add(Activation('relu'))\n",
    "model.add(MaxPooling2D(pool_size = (2, 2)))\n",
    "\n",
    "model.add(Conv2D(256, (3, 3)))\n",
    "model.add(Activation('relu'))\n",
    "model.add(MaxPooling2D(pool_size = (2, 2)))\n",
    "\n",
    "model.add(Flatten())\n",
    "\n",
    "model.add(Dense(64, activation = 'relu'))\n",
    "#model.add(Dense(64))\n",
    "#model.add(Activation('relu'))\n",
    "\n",
    "model.add(Dense(2, activation = 'softmax'))\n",
    "#model.add(Dense(2))\n",
    "#model.add(Activation('softmax'))\n",
    "\n",
    "model.compile(loss = 'categorical_crossentropy', optimizer = 'adam', metrics = ['accuracy'])\n",
    "#changes that can be made:-\n",
    "#loss\n",
    "#optimizer = 'sgd'\n",
    "#batch_size\n",
    "#no of epochs"
   ]
  },
  {
   "cell_type": "code",
   "execution_count": null,
   "metadata": {},
   "outputs": [
    {
     "name": "stdout",
     "output_type": "stream",
     "text": [
      "Epoch 1/3\n",
      "11936/24780 [=============>................] - ETA: 16:13 - loss: 0.6933 - acc: 0.5011"
     ]
    }
   ],
   "source": [
    "model.fit(train_data, train_target, batch_size = 32, epochs = 3)"
   ]
  },
  {
   "cell_type": "code",
   "execution_count": null,
   "metadata": {},
   "outputs": [],
   "source": [
    "model.save_weights('CNN_Cats_Dogs_test.h5')"
   ]
  }
 ],
 "metadata": {
  "kernelspec": {
   "display_name": "Python 3",
   "language": "python",
   "name": "python3"
  },
  "language_info": {
   "codemirror_mode": {
    "name": "ipython",
    "version": 3
   },
   "file_extension": ".py",
   "mimetype": "text/x-python",
   "name": "python",
   "nbconvert_exporter": "python",
   "pygments_lexer": "ipython3",
   "version": "3.6.8"
  }
 },
 "nbformat": 4,
 "nbformat_minor": 2
}
