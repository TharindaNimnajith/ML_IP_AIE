{
 "cells": [
  {
   "cell_type": "code",
   "execution_count": 1,
   "metadata": {},
   "outputs": [
    {
     "ename": "ModuleNotFoundError",
     "evalue": "No module named 'cv2'",
     "output_type": "error",
     "traceback": [
      "\u001b[1;31m---------------------------------------------------------------------------\u001b[0m",
      "\u001b[1;31mModuleNotFoundError\u001b[0m                       Traceback (most recent call last)",
      "\u001b[1;32m<ipython-input-1-baeff677c76e>\u001b[0m in \u001b[0;36m<module>\u001b[1;34m\u001b[0m\n\u001b[1;32m----> 1\u001b[1;33m \u001b[1;32mimport\u001b[0m \u001b[0mcv2\u001b[0m\u001b[1;33m\u001b[0m\u001b[1;33m\u001b[0m\u001b[0m\n\u001b[0m\u001b[0;32m      2\u001b[0m \u001b[1;33m\u001b[0m\u001b[0m\n\u001b[0;32m      3\u001b[0m \u001b[0mcategories\u001b[0m\u001b[1;33m=\u001b[0m\u001b[1;33m[\u001b[0m\u001b[1;34m'Cat'\u001b[0m\u001b[1;33m,\u001b[0m\u001b[1;34m'Dog'\u001b[0m\u001b[1;33m]\u001b[0m\u001b[1;33m\u001b[0m\u001b[1;33m\u001b[0m\u001b[0m\n\u001b[0;32m      4\u001b[0m \u001b[1;33m\u001b[0m\u001b[0m\n\u001b[0;32m      5\u001b[0m \u001b[0mtrain_data\u001b[0m\u001b[1;33m=\u001b[0m\u001b[1;33m[\u001b[0m\u001b[1;33m]\u001b[0m\u001b[1;33m\u001b[0m\u001b[1;33m\u001b[0m\u001b[0m\n",
      "\u001b[1;31mModuleNotFoundError\u001b[0m: No module named 'cv2'"
     ]
    }
   ],
   "source": [
    "import cv2\n",
    "\n",
    "categories=['Cat','Dog']\n",
    "\n",
    "train_data=[]\n",
    "train_target=[]\n",
    "\n",
    "size=50\n",
    "\n",
    "for i in range (0,12500):\n",
    "    \n",
    "    try:\n",
    "    \n",
    "        for category in categories:\n",
    "        \n",
    "        \n",
    "            img=cv2.imread('PetImages/'+category+'/'+str(i)+'.jpg')\n",
    "            \n",
    "            gray=cv2.cvtColor(img,cv2.COLOR_BGR2GRAY)\n",
    "            resized=cv2.resize(gray,(size,size))\n",
    "        \n",
    "        \n",
    "            if(category=='Cat'):\n",
    "            \n",
    "                train_data.append(resized)\n",
    "                train_target.append([1,0])\n",
    "            \n",
    "            else:\n",
    "                train_data.append(resized)\n",
    "                train_target.append([0,1])\n",
    "    \n",
    "    except Exception as e:\n",
    "        \n",
    "        \n",
    "        pass\n",
    "    \n",
    "\n",
    "\n",
    "\n",
    "        "
   ]
  },
  {
   "cell_type": "code",
   "execution_count": 14,
   "metadata": {},
   "outputs": [
    {
     "name": "stdout",
     "output_type": "stream",
     "text": [
      "Length of train data: 24780\n"
     ]
    }
   ],
   "source": [
    "print('Length of train data:',len(train_target))\n",
    "    \n",
    "import numpy as np\n",
    "\n",
    "train_data=np.array(train_data)\n",
    "train_data=train_data.reshape(-1,size,size,1)\n",
    "\n",
    "\n",
    "train_target=np.array(train_target)\n",
    "\n",
    "\n",
    "import pickle\n",
    "\n",
    "pickle.dump(train_data,open('train_data.pickle','wb'))\n",
    "pickle.dump(train_target,open('train_target.pickle','wb'))\n"
   ]
  },
  {
   "cell_type": "code",
   "execution_count": null,
   "metadata": {},
   "outputs": [],
   "source": []
  }
 ],
 "metadata": {
  "kernelspec": {
   "display_name": "Python 3",
   "language": "python",
   "name": "python3"
  },
  "language_info": {
   "codemirror_mode": {
    "name": "ipython",
    "version": 3
   },
   "file_extension": ".py",
   "mimetype": "text/x-python",
   "name": "python",
   "nbconvert_exporter": "python",
   "pygments_lexer": "ipython3",
   "version": "3.6.8"
  }
 },
 "nbformat": 4,
 "nbformat_minor": 2
}
